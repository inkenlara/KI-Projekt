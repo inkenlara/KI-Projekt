{
 "cells": [
  {
   "cell_type": "code",
   "execution_count": null,
   "metadata": {
    "collapsed": true
   },
   "outputs": [],
   "source": [
    "import pickle\n",
    "from graph import Graph, Part\n",
    "from typing import List, Callable, Set\n",
    "from sklearn.model_selection import train_test_split\n",
    "\n",
    "with open('data/graphs.dat', 'rb') as file:\n",
    "    all_graphs: List[Graph] = pickle.load(file)\n",
    "    X_train, X_temp, y_train, y_temp = train_test_split(list(map(lambda g: g.get_parts(), all_graphs)), all_graphs, test_size=0.3, random_state=0)\n",
    "    X_val, X_test, y_val, y_test = train_test_split(X_temp, y_temp, test_size=0.5, random_state=0) "
   ]
  },
  {
   "cell_type": "code",
   "execution_count": null,
   "metadata": {},
   "outputs": [],
   "source": [
    "import matplotlib.pyplot as plt\n",
    "\n",
    "sizes = list(map(lambda graph: len(graph.get_nodes()), all_graphs))\n",
    "counts, edges, bars = plt.hist(sizes, bins=range(min(sizes),max(sizes)+1,1))\n",
    "plt.style.use('dark_background')\n",
    "plt.bar_label(bars)\n",
    "plt.show()"
   ]
  },
  {
   "cell_type": "code",
   "execution_count": null,
   "metadata": {
    "collapsed": false,
    "pycharm": {
     "name": "#%%\n"
    }
   },
   "outputs": [],
   "source": [
    "from node import Node\n",
    "\n",
    "class Ordering:\n",
    "    def __init__(self, y: List[Graph], degreeAggregate: Callable[[List[int]], int]):\n",
    "        degrees = {}\n",
    "        for graph in y:\n",
    "            for (node, edges) in graph.get_edges().items():\n",
    "                if node.get_part().get_part_id() not in degrees:\n",
    "                    degrees[node.get_part().get_part_id()] = []\n",
    "                degrees[node.get_part().get_part_id()].append(len(edges))\n",
    "        self.keys = {part: degreeAggregate(degs) for (part, degs) in degrees.items()}\n",
    "\n",
    "    def sort(self, x: Set[Part]) -> List[Part]:\n",
    "        return sorted(x, key=lambda n: self.keys[n.get_part_id()])\n",
    "    \n",
    "    def get_compatible_graphs(self, graphs: List[Graph]) -> List[Graph]:\n",
    "        compatible_graphs = []\n",
    "        for graph in graphs:\n",
    "            compatible = True\n",
    "            appendOrder = [0]\n",
    "            edges = {node: edges.copy() for (node, edges) in graph.get_edges().items()}\n",
    "            nodes: List[Node] = sorted(graph.get_nodes(), key=lambda n: self.keys[n.get_part().get_part_id()])\n",
    "            for node in nodes[:-1]:\n",
    "                if len(edges[node]) != 1:\n",
    "                    compatible = False\n",
    "                    break\n",
    "                parent = edges[node][0]\n",
    "                appendOrder.append(len(nodes) - nodes.index(parent) - 1)\n",
    "                edges[parent].remove(node)\n",
    "            if compatible:\n",
    "                part_seq = list(map(lambda node: int(node.get_part().get_part_id()), nodes))\n",
    "                compatible_graphs.append((graph, part_seq[::-1], appendOrder[::-1]))\n",
    "        return compatible_graphs\n",
    "\n",
    "avgOrder = Ordering(y_train, lambda n: sum(n)/len(n))\n",
    "avgOrder_compatibleGraphs = avgOrder.get_compatible_graphs(y_val)\n",
    "print(len(avgOrder.get_compatible_graphs(y_val)) / len(y_val))"
   ]
  },
  {
   "cell_type": "code",
   "execution_count": null,
   "metadata": {},
   "outputs": [],
   "source": [
    "import torch\n",
    "import torch.nn as nn\n",
    "import torch.optim as optim\n",
    "import torch.nn.functional as F\n",
    "from datetime import datetime\n",
    "\n",
    "class LSTM(nn.Module):\n",
    "\n",
    "    def __init__(self, input_size, hidden_size, output_size):\n",
    "        super(LSTM, self).__init__()\n",
    "        self.hidden_size = hidden_size\n",
    "        self.lstm = nn.LSTM(input_size, hidden_size)\n",
    "        self.hidden2tag = nn.Linear(hidden_size, output_size)\n",
    "\n",
    "    def forward(self, sentence):\n",
    "        lstm_out, _ = self.lstm(sentence.view(len(sentence), 1, -1))\n",
    "        tag_space = self.hidden2tag(lstm_out.view(len(sentence), -1))\n",
    "        tag_scores = F.log_softmax(tag_space, dim=1)\n",
    "        return tag_scores\n",
    "\n",
    "def integers_to_onehot(numbers, output_size):\n",
    "    one_hot = torch.zeros(len(numbers), output_size)\n",
    "    for idx, number in enumerate(numbers):\n",
    "        one_hot[idx, number] = 1\n",
    "    return one_hot\n",
    "\n",
    "# Define hyperparameters\n",
    "input_size = 1 # Value between 0 and 2270\n",
    "hidden_size = 20\n",
    "output_size = 20\n",
    "model = LSTM(input_size, hidden_size, output_size)\n",
    "criterion = nn.CrossEntropyLoss()\n",
    "optimizer = optim.Adam(model.parameters(), lr=0.001)\n",
    "\n",
    "# Example training loop\n",
    "for epoch in range(10000):\n",
    "    total_loss = 0\n",
    "    for graph, seq, positions in avgOrder_compatibleGraphs:\n",
    "\n",
    "        input = torch.Tensor(list(map(lambda i: i/2270, seq)))\n",
    "        target = integers_to_onehot(positions, output_size)\n",
    "\n",
    "        optimizer.zero_grad()\n",
    "        output = model(input)\n",
    "        loss = criterion(output, target) # Output had a .view(1,-1) in the example - why?\n",
    "        loss.backward()\n",
    "        optimizer.step()\n",
    "\n",
    "        total_loss += loss.item()\n",
    "\n",
    "    if epoch % 1000 == 0:\n",
    "        print(f'{datetime.now().strftime(\"%H:%M:%S\")}: Epoch {epoch}, Loss: {total_loss/10}')\n"
   ]
  },
  {
   "cell_type": "code",
   "execution_count": null,
   "metadata": {},
   "outputs": [],
   "source": [
    "\n",
    "def createGraph(unorderedParts: Set[Part], model: nn.Module):\n",
    "    parts = avgOrder.sort(unorderedParts)\n",
    "    input = torch.Tensor(list(map(lambda part: int(part.get_part_id())/2270, parts)))\n",
    "    output_one_hot = model(input)\n",
    "    output_positions = torch.argmax(output_one_hot, dim=1).tolist()\n",
    "    g = Graph()\n",
    "    for idx, pos in enumerate(output_positions):\n",
    "        if(pos >= len(parts)):\n",
    "            pos = 0\n",
    "        g.add_undirected_edge(parts[idx], parts[pos])\n",
    "    if sum(output_positions) > 0:\n",
    "        print(f\"Non-Zero Model output for: {unorderedParts}\")\n",
    "    return g\n",
    "\n",
    "\n",
    "correct_counter = 0\n",
    "for parts, graph in zip(X_val, y_val):\n",
    "    prediction = createGraph(parts, model)\n",
    "    if prediction == graph:\n",
    "        correct_counter += 1\n",
    "print(correct_counter / len(y_val))"
   ]
  },
  {
   "cell_type": "code",
   "execution_count": null,
   "metadata": {},
   "outputs": [],
   "source": []
  }
 ],
 "metadata": {
  "kernelspec": {
   "display_name": "Python 3",
   "language": "python",
   "name": "python3"
  },
  "language_info": {
   "codemirror_mode": {
    "name": "ipython",
    "version": 3
   },
   "file_extension": ".py",
   "mimetype": "text/x-python",
   "name": "python",
   "nbconvert_exporter": "python",
   "pygments_lexer": "ipython3",
   "version": "3.8.18"
  }
 },
 "nbformat": 4,
 "nbformat_minor": 0
}
