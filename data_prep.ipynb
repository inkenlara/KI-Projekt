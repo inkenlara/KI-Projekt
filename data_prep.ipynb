{
 "cells": [
  {
   "cell_type": "code",
   "execution_count": null,
   "metadata": {
    "collapsed": true
   },
   "outputs": [],
   "source": [
    "import pickle\n",
    "from graph import Graph, Part\n",
    "from typing import List, Callable, Set\n",
    "from sklearn.model_selection import train_test_split\n",
    "\n",
    "with open('data/graphs.dat', 'rb') as file:\n",
    "    all_graphs: List[Graph] = pickle.load(file)\n",
    "    X_train, X_temp, y_train, y_temp = train_test_split(list(map(lambda g: g.get_parts(), all_graphs)), all_graphs, test_size=0.3, random_state=0)\n",
    "    X_val, X_test, y_val, y_test = train_test_split(X_temp, y_temp, test_size=0.5, random_state=0)"
   ]
  },
  {
   "cell_type": "code",
   "execution_count": null,
   "metadata": {
    "collapsed": false,
    "pycharm": {
     "name": "#%%\n"
    }
   },
   "outputs": [],
   "source": [
    "from node import Node\n",
    "\n",
    "class Ordering:\n",
    "    def __init__(self, y: List[Graph], degreeAggregate: Callable[[List[int]], int]):\n",
    "        degrees = {}\n",
    "        for graph in y:\n",
    "            for (node, edges) in graph.get_edges().items():\n",
    "                if node.get_part().get_part_id() not in degrees:\n",
    "                    degrees[node.get_part().get_part_id()] = []\n",
    "                degrees[node.get_part().get_part_id()].append(len(edges))\n",
    "        self.keys = {part: degreeAggregate(degs) for (part, degs) in degrees.items()}\n",
    "\n",
    "    def sort(self, x: Set[Part]) -> List[Part]:\n",
    "        return sorted(x, key=lambda n: self.keys[n.get_part_id()])\n",
    "    \n",
    "    def test_graphs(self, graphs: List[Graph]) -> float:\n",
    "        problems: int = 0\n",
    "        for graph in graphs:\n",
    "            edges = {node: edges.copy() for (node, edges) in graph.get_edges().items()}\n",
    "            nodes: List[Node] = sorted(graph.get_nodes(), key=lambda n: self.keys[n.get_part().get_part_id()])\n",
    "            for node in nodes[:-1]:\n",
    "                if len(edges[node]) != 1:\n",
    "                    problems += 1\n",
    "                    break\n",
    "                parent = edges[node][0]\n",
    "                edges[parent].remove(node)\n",
    "        return 1 - (problems / len(graphs))\n",
    "\n",
    "avgOrder = Ordering(y_train, lambda n: sum(n)/len(n))\n",
    "print(avgOrder.test_graphs(y_val))"
   ]
  },
  {
   "cell_type": "code",
   "execution_count": null,
   "metadata": {},
   "outputs": [],
   "source": []
  }
 ],
 "metadata": {
  "kernelspec": {
   "display_name": "Python 3",
   "language": "python",
   "name": "python3"
  },
  "language_info": {
   "codemirror_mode": {
    "name": "ipython",
    "version": 3
   },
   "file_extension": ".py",
   "mimetype": "text/x-python",
   "name": "python",
   "nbconvert_exporter": "python",
   "pygments_lexer": "ipython3",
   "version": "3.8.18"
  }
 },
 "nbformat": 4,
 "nbformat_minor": 0
}
